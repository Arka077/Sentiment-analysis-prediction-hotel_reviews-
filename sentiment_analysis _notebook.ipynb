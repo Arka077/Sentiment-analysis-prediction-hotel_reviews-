{
 "cells": [
  {
   "cell_type": "code",
   "execution_count": 3,
   "metadata": {},
   "outputs": [],
   "source": [
    "import numpy as np\n",
    "import pandas as pd\n",
    "import matplotlib.pyplot as plt\n",
    "import seaborn as sns\n",
    "import warnings\n",
    "from sklearn.metrics import accuracy_score, classification_report, confusion_matrix, roc_curve, auc, roc_auc_score\n",
    "from sklearn.model_selection import train_test_split\n",
    "from sklearn.preprocessing import LabelEncoder\n",
    "import joblib\n",
    "import re\n",
    "import nltk\n",
    "from nltk.corpus import stopwords, wordnet\n",
    "from nltk.tokenize import word_tokenize\n",
    "from nltk.stem import WordNetLemmatizer\n",
    "from nltk import pos_tag\n",
    "import tensorflow as tf\n",
    "from tensorflow.keras.utils import to_categorical\n",
    "from tensorflow.keras.models import Sequential\n",
    "from tensorflow.keras.layers import Dense, Dropout, BatchNormalization, Embedding, LSTM, Bidirectional\n",
    "from tensorflow.keras.preprocessing.sequence import pad_sequences\n",
    "from tensorflow.keras.callbacks import EarlyStopping, ReduceLROnPlateau\n",
    "from tensorflow.keras.regularizers import l2\n",
    "from tensorflow.keras.optimizers import Adam\n",
    "\n",
    "warnings.filterwarnings('ignore')\n"
   ]
  },
  {
   "cell_type": "code",
   "execution_count": 4,
   "metadata": {},
   "outputs": [
    {
     "data": {
      "text/plain": [
       "True"
      ]
     },
     "execution_count": 4,
     "metadata": {},
     "output_type": "execute_result"
    }
   ],
   "source": [
    "\n",
    "# Download necessary resources\n",
    "nltk.download('punkt', quiet=True)\n",
    "nltk.download('averaged_perceptron_tagger', quiet=True)\n",
    "nltk.download('wordnet', quiet=True)\n",
    "nltk.download('omw-1.4', quiet=True)\n",
    "nltk.download('stopwords', quiet=True)\n"
   ]
  },
  {
   "cell_type": "code",
   "execution_count": 5,
   "metadata": {},
   "outputs": [],
   "source": [
    "\n",
    "# Load the dataset\n",
    "df = pd.read_csv(\"tripadvisor_hotel_reviews.csv\")"
   ]
  },
  {
   "cell_type": "code",
   "execution_count": 6,
   "metadata": {},
   "outputs": [
    {
     "name": "stdout",
     "output_type": "stream",
     "text": [
      "Dataset Head:\n",
      "                                              Review  Rating\n",
      "0  nice hotel expensive parking got good deal sta...       4\n",
      "1  ok nothing special charge diamond member hilto...       2\n",
      "2  nice rooms not 4* experience hotel monaco seat...       3\n",
      "3  unique, great stay, wonderful time hotel monac...       5\n",
      "4  great stay great stay, went seahawk game aweso...       5\n"
     ]
    }
   ],
   "source": [
    "\n",
    "# Analyze the dataset\n",
    "print(\"Dataset Head:\")\n",
    "print(df.head())\n"
   ]
  },
  {
   "cell_type": "code",
   "execution_count": 7,
   "metadata": {},
   "outputs": [
    {
     "name": "stdout",
     "output_type": "stream",
     "text": [
      "\n",
      "Number of duplicate rows: 0\n"
     ]
    }
   ],
   "source": [
    "\n",
    "# Check for duplicates and remove them\n",
    "duplicate_rows = df[df.duplicated()]\n",
    "print(f\"\\nNumber of duplicate rows: {len(duplicate_rows)}\")\n",
    "df = df.drop_duplicates() \n"
   ]
  },
  {
   "cell_type": "code",
   "execution_count": 8,
   "metadata": {},
   "outputs": [
    {
     "name": "stdout",
     "output_type": "stream",
     "text": [
      "\n",
      "Null values count:\n",
      "Review    0\n",
      "Rating    0\n",
      "dtype: int64\n"
     ]
    }
   ],
   "source": [
    "\n",
    "# Check for null values\n",
    "print(\"\\nNull values count:\")\n",
    "print(df.isnull().sum())\n"
   ]
  },
  {
   "cell_type": "code",
   "execution_count": 9,
   "metadata": {},
   "outputs": [
    {
     "name": "stdout",
     "output_type": "stream",
     "text": [
      "\n",
      "Dataset shape: (20491, 2)\n"
     ]
    }
   ],
   "source": [
    "\n",
    "print(f\"\\nDataset shape: {df.shape}\")\n"
   ]
  },
  {
   "cell_type": "code",
   "execution_count": 10,
   "metadata": {},
   "outputs": [],
   "source": [
    "\n",
    "# Function to categorize sentiment\n",
    "def categorize_sentiment(rating):\n",
    "    if rating in [4, 5]:\n",
    "        return 'Positive'\n",
    "    elif rating==3:\n",
    "        return 'Neutral'\n",
    "    elif rating in [1, 2]:\n",
    "        return 'Negative'\n"
   ]
  },
  {
   "cell_type": "code",
   "execution_count": 11,
   "metadata": {},
   "outputs": [
    {
     "name": "stdout",
     "output_type": "stream",
     "text": [
      "\n",
      "Dataset with sentiment:\n",
      "                                              Review Sentiment\n",
      "0  nice hotel expensive parking got good deal sta...  Positive\n",
      "1  ok nothing special charge diamond member hilto...  Negative\n",
      "2  nice rooms not 4* experience hotel monaco seat...   Neutral\n",
      "3  unique, great stay, wonderful time hotel monac...  Positive\n",
      "4  great stay great stay, went seahawk game aweso...  Positive\n"
     ]
    }
   ],
   "source": [
    "\n",
    "# Apply function to 'Rating' column and create new 'Sentiment' column\n",
    "df['Sentiment'] = df['Rating'].apply(categorize_sentiment)\n",
    "# Keep only review text and sentiment columns\n",
    "df = df.loc[:, ['Review', 'Sentiment']]\n",
    "print(\"\\nDataset with sentiment:\")\n",
    "print(df.head())\n"
   ]
  },
  {
   "cell_type": "code",
   "execution_count": 12,
   "metadata": {},
   "outputs": [
    {
     "data": {
      "image/png": "[encoded data removed]",
      "text/plain": [
       "<Figure size 800x600 with 1 Axes>"
      ]
     },
     "metadata": {},
     "output_type": "display_data"
    }
   ],
   "source": [
    "\n",
    "# Plot sentiment distribution\n",
    "plt.figure(figsize=(8, 6))\n",
    "df[\"Sentiment\"].value_counts().plot(kind=\"pie\", autopct=\"%0.2f%%\")\n",
    "plt.title(\"Sentiment Distribution\")\n",
    "plt.ylabel(\"\")\n",
    "plt.show()\n"
   ]
  },
  {
   "cell_type": "code",
   "execution_count": 13,
   "metadata": {},
   "outputs": [],
   "source": [
    "\n",
    "\n",
    "\n",
    "X = df['Review']\n",
    "y = df['Sentiment']\n"
   ]
  },
  {
   "cell_type": "code",
   "execution_count": 14,
   "metadata": {},
   "outputs": [
    {
     "name": "stdout",
     "output_type": "stream",
     "text": [
      "\n",
      "Processing text data...\n"
     ]
    }
   ],
   "source": [
    "\n",
    "# Improved text preprocessing\n",
    "def clean_text(text):\n",
    "    \"\"\"\n",
    "    Clean and normalize text data:\n",
    "    1. Remove HTML tags\n",
    "    2. Remove special characters\n",
    "    3. Convert to lowercase\n",
    "    4. Remove extra whitespace\n",
    "    \"\"\"\n",
    "    # Remove HTML tags\n",
    "    text = re.sub(r'<.*?>', '', text)\n",
    "    \n",
    "    # Remove URLs\n",
    "    text = re.sub(r'http\\S+|www\\S+|https\\S+', '', text)\n",
    "    \n",
    "    # Remove non-alphanumeric characters except spaces\n",
    "    text = re.sub(r'[^a-zA-Z\\s]', '', text)\n",
    "    \n",
    "    # Convert to lowercase\n",
    "    text = text.lower()\n",
    "    \n",
    "    # Remove extra whitespace\n",
    "    text = re.sub(r'\\s+', ' ', text).strip()\n",
    "    \n",
    "    return text\n",
    "\n",
    "# Stopwords and Lemmatizer setup\n",
    "stop_words = set(stopwords.words('english'))\n",
    "domain_stopwords = {'hotel', 'room', 'stay', 'night', 'day', 'days', 'stayed', 'property', 'resort', 'location', 'time'}\n",
    "stop_words.update(domain_stopwords)\n",
    "lemmatizer = WordNetLemmatizer()\n",
    "\n",
    "def get_pos(pos_tag):\n",
    "    if pos_tag.startswith('J'):\n",
    "        return wordnet.ADJ\n",
    "    elif pos_tag.startswith('V'):\n",
    "        return wordnet.VERB\n",
    "    elif pos_tag.startswith('N'):\n",
    "        return wordnet.NOUN\n",
    "    elif pos_tag.startswith('R'):\n",
    "        return wordnet.ADV\n",
    "    else:\n",
    "        return wordnet.NOUN \n",
    "\n",
    "def preprocess_text(text):\n",
    "    \"\"\"\n",
    "    Advanced text preprocessing:\n",
    "    1. Clean text\n",
    "    2. Tokenize\n",
    "    3. POS tagging\n",
    "    4. Lemmatize with POS\n",
    "    5. Remove stopwords and short words\n",
    "    \"\"\"\n",
    "    # Clean text first\n",
    "    text = clean_text(text)\n",
    "    \n",
    "    # Tokenize\n",
    "    word_tokens = word_tokenize(text)\n",
    "    \n",
    "    # POS tagging\n",
    "    pos_tags = pos_tag(word_tokens)\n",
    "    \n",
    "    # Filter out stopwords and lemmatize based on POS\n",
    "    tokens = []\n",
    "    for word, tag in pos_tags:\n",
    "        if word not in stop_words and len(word) > 2:  # Skip short words\n",
    "            wordnet_pos = get_pos(tag)\n",
    "            lemma = lemmatizer.lemmatize(word, wordnet_pos)\n",
    "            tokens.append(lemma)\n",
    "    \n",
    "    return tokens, ' '.join(tokens) if tokens else \"\"\n",
    "\n",
    "print(\"\\nProcessing text data...\")\n",
    "tokenized_corpus = []  # List of lists of tokens\n",
    "processed_texts = []   # List of processed text strings\n",
    "\n",
    "for review in X:\n",
    "    tokens, processed_text = preprocess_text(review)\n",
    "    tokenized_corpus.append(tokens)\n",
    "    processed_texts.append(processed_text)\n"
   ]
  },
  {
   "cell_type": "code",
   "execution_count": 15,
   "metadata": {},
   "outputs": [
    {
     "name": "stdout",
     "output_type": "stream",
     "text": [
      "\n",
      "Encoded sentiment classes: ['Negative' 'Neutral' 'Positive']\n"
     ]
    }
   ],
   "source": [
    "\n",
    "# Encode sentiment labels\n",
    "label_encoder = LabelEncoder()\n",
    "y_encoded = label_encoder.fit_transform(y)\n",
    "print(f\"\\nEncoded sentiment classes: {label_encoder.classes_}\")\n"
   ]
  },
  {
   "cell_type": "code",
   "execution_count": 16,
   "metadata": {},
   "outputs": [
    {
     "name": "stdout",
     "output_type": "stream",
     "text": [
      "\n",
      "Building vocabulary...\n",
      "Vocabulary size: 12412\n"
     ]
    }
   ],
   "source": [
    "\n",
    "# Create vocabulary from tokens\n",
    "print(\"\\nBuilding vocabulary...\")\n",
    "all_tokens = []\n",
    "for tokens in tokenized_corpus:\n",
    "    all_tokens.extend(tokens)\n",
    "\n",
    "# Get unique tokens with count >= 5\n",
    "token_counts = {}\n",
    "for token in all_tokens:\n",
    "    token_counts[token] = token_counts.get(token, 0) + 1\n",
    "\n",
    "# Only keep tokens that appear at least 5 times\n",
    "vocab = {token for token, count in token_counts.items() if count >= 5}\n",
    "\n",
    "# Create word-to-index mapping (vocabulary)\n",
    "word_to_index = {word: i+1 for i, word in enumerate(vocab)}  # Reserve 0 for padding\n",
    "vocab_size = len(word_to_index) + 1  # +1 for padding token\n",
    "print(f\"Vocabulary size: {vocab_size}\")\n"
   ]
  },
  {
   "cell_type": "code",
   "execution_count": 17,
   "metadata": {},
   "outputs": [],
   "source": [
    "\n",
    "# Set parameters for embedding and sequences\n",
    "sent_length = 150  # Sentence length for padding\n",
    "embedding_dim = 500  # Dimension of word vectors\n"
   ]
  },
  {
   "cell_type": "code",
   "execution_count": 18,
   "metadata": {},
   "outputs": [],
   "source": [
    "\n",
    "# Convert texts to sequences\n",
    "def texts_to_sequences(tokenized_texts, word_to_index, max_length):\n",
    "    sequences = []\n",
    "    for tokens in tokenized_texts:\n",
    "        # Convert tokens to indices, using 0 if token not in vocabulary\n",
    "        sequence = [word_to_index.get(token, 0) for token in tokens]\n",
    "        sequences.append(sequence)\n",
    "    \n",
    "    # Pad sequences to the same length\n",
    "    padded_sequences = pad_sequences(sequences, maxlen=max_length, padding='pre')\n",
    "    return padded_sequences\n"
   ]
  },
  {
   "cell_type": "code",
   "execution_count": 19,
   "metadata": {},
   "outputs": [
    {
     "name": "stdout",
     "output_type": "stream",
     "text": [
      "\n",
      "Converting text to sequences...\n",
      "Sequences shape: (20491, 150)\n"
     ]
    }
   ],
   "source": [
    "\n",
    "# Convert corpus to sequences\n",
    "print(\"\\nConverting text to sequences...\")\n",
    "X_sequences = texts_to_sequences(tokenized_corpus, word_to_index, sent_length)\n",
    "print(f\"Sequences shape: {X_sequences.shape}\")\n"
   ]
  },
  {
   "cell_type": "code",
   "execution_count": 20,
   "metadata": {},
   "outputs": [],
   "source": [
    "\n",
    "# Convert to numpy arrays\n",
    "X_final = np.array(X_sequences)\n"
   ]
  },
  {
   "cell_type": "code",
   "execution_count": 21,
   "metadata": {},
   "outputs": [
    {
     "name": "stdout",
     "output_type": "stream",
     "text": [
      "Multi-class classification with 3 classes\n"
     ]
    }
   ],
   "source": [
    "\n",
    "# Since we have binary sentiment, we can use binary encoding\n",
    "if len(np.unique(y_encoded)) == 2:\n",
    "    print(\"Binary sentiment classification detected\")\n",
    "    y_final = y_encoded  # For binary classification\n",
    "else:\n",
    "    # Convert target to one-hot encoding (for categorical_crossentropy)\n",
    "    num_classes = len(np.unique(y_encoded))\n",
    "    y_final = to_categorical(y_encoded, num_classes=num_classes)\n",
    "    print(f\"Multi-class classification with {num_classes} classes\")\n"
   ]
  },
  {
   "cell_type": "code",
   "execution_count": 22,
   "metadata": {},
   "outputs": [
    {
     "name": "stdout",
     "output_type": "stream",
     "text": [
      "Training shapes: X: (16392, 150), y: (16392, 3)\n",
      "Testing shapes: X: (4099, 150), y: (4099, 3)\n"
     ]
    }
   ],
   "source": [
    "\n",
    "# Split data with stratification\n",
    "X_train, X_test, y_train, y_test = train_test_split(\n",
    "    X_final, y_final, test_size=0.2, random_state=42, stratify=y_encoded\n",
    ")\n",
    "print(f\"Training shapes: X: {X_train.shape}, y: {len(y_train) if len(y_encoded) == 2 else y_train.shape}\")\n",
    "print(f\"Testing shapes: X: {X_test.shape}, y: {len(y_test) if len(y_encoded) == 2 else y_test.shape}\")\n"
   ]
  },
  {
   "cell_type": "code",
   "execution_count": 24,
   "metadata": {},
   "outputs": [
    {
     "name": "stdout",
     "output_type": "stream",
     "text": [
      "\n",
      "Building LSTM model with Embedding layer...\n"
     ]
    },
    {
     "data": {
      "text/html": [
       "<pre style=\"white-space:pre;overflow-x:auto;line-height:normal;font-family:Menlo,'DejaVu Sans Mono',consolas,'Courier New',monospace\"><span style=\"font-weight: bold\">Model: \"sequential_1\"</span>\n",
       "</pre>\n"
      ],
      "text/plain": [
       "\u001b[1mModel: \"sequential_1\"\u001b[0m\n"
      ]
     },
     "metadata": {},
     "output_type": "display_data"
    },
    {
     "data": {
      "text/html": [
       "<pre style=\"white-space:pre;overflow-x:auto;line-height:normal;font-family:Menlo,'DejaVu Sans Mono',consolas,'Courier New',monospace\">┏━━━━━━━━━━━━━━━━━━━━━━━━━━━━━━━━━┳━━━━━━━━━━━━━━━━━━━━━━━━┳━━━━━━━━━━━━━━━┓\n",
       "┃<span style=\"font-weight: bold\"> Layer (type)                    </span>┃<span style=\"font-weight: bold\"> Output Shape           </span>┃<span style=\"font-weight: bold\">       Param # </span>┃\n",
       "┡━━━━━━━━━━━━━━━━━━━━━━━━━━━━━━━━━╇━━━━━━━━━━━━━━━━━━━━━━━━╇━━━━━━━━━━━━━━━┩\n",
       "│ embedding_1 (<span style=\"color: #0087ff; text-decoration-color: #0087ff\">Embedding</span>)         │ ?                      │   <span style=\"color: #00af00; text-decoration-color: #00af00\">0</span> (unbuilt) │\n",
       "├─────────────────────────────────┼────────────────────────┼───────────────┤\n",
       "│ bidirectional_1 (<span style=\"color: #0087ff; text-decoration-color: #0087ff\">Bidirectional</span>) │ ?                      │   <span style=\"color: #00af00; text-decoration-color: #00af00\">0</span> (unbuilt) │\n",
       "├─────────────────────────────────┼────────────────────────┼───────────────┤\n",
       "│ batch_normalization_1           │ ?                      │   <span style=\"color: #00af00; text-decoration-color: #00af00\">0</span> (unbuilt) │\n",
       "│ (<span style=\"color: #0087ff; text-decoration-color: #0087ff\">BatchNormalization</span>)            │                        │               │\n",
       "├─────────────────────────────────┼────────────────────────┼───────────────┤\n",
       "│ dropout_2 (<span style=\"color: #0087ff; text-decoration-color: #0087ff\">Dropout</span>)             │ ?                      │             <span style=\"color: #00af00; text-decoration-color: #00af00\">0</span> │\n",
       "├─────────────────────────────────┼────────────────────────┼───────────────┤\n",
       "│ dense_2 (<span style=\"color: #0087ff; text-decoration-color: #0087ff\">Dense</span>)                 │ ?                      │   <span style=\"color: #00af00; text-decoration-color: #00af00\">0</span> (unbuilt) │\n",
       "├─────────────────────────────────┼────────────────────────┼───────────────┤\n",
       "│ dropout_3 (<span style=\"color: #0087ff; text-decoration-color: #0087ff\">Dropout</span>)             │ ?                      │             <span style=\"color: #00af00; text-decoration-color: #00af00\">0</span> │\n",
       "├─────────────────────────────────┼────────────────────────┼───────────────┤\n",
       "│ dense_3 (<span style=\"color: #0087ff; text-decoration-color: #0087ff\">Dense</span>)                 │ ?                      │   <span style=\"color: #00af00; text-decoration-color: #00af00\">0</span> (unbuilt) │\n",
       "└─────────────────────────────────┴────────────────────────┴───────────────┘\n",
       "</pre>\n"
      ],
      "text/plain": [
       "┏━━━━━━━━━━━━━━━━━━━━━━━━━━━━━━━━━┳━━━━━━━━━━━━━━━━━━━━━━━━┳━━━━━━━━━━━━━━━┓\n",
       "┃\u001b[1m \u001b[0m\u001b[1mLayer (type)                   \u001b[0m\u001b[1m \u001b[0m┃\u001b[1m \u001b[0m\u001b[1mOutput Shape          \u001b[0m\u001b[1m \u001b[0m┃\u001b[1m \u001b[0m\u001b[1m      Param #\u001b[0m\u001b[1m \u001b[0m┃\n",
       "┡━━━━━━━━━━━━━━━━━━━━━━━━━━━━━━━━━╇━━━━━━━━━━━━━━━━━━━━━━━━╇━━━━━━━━━━━━━━━┩\n",
       "│ embedding_1 (\u001b[38;5;33mEmbedding\u001b[0m)         │ ?                      │   \u001b[38;5;34m0\u001b[0m (unbuilt) │\n",
       "├─────────────────────────────────┼────────────────────────┼───────────────┤\n",
       "│ bidirectional_1 (\u001b[38;5;33mBidirectional\u001b[0m) │ ?                      │   \u001b[38;5;34m0\u001b[0m (unbuilt) │\n",
       "├─────────────────────────────────┼────────────────────────┼───────────────┤\n",
       "│ batch_normalization_1           │ ?                      │   \u001b[38;5;34m0\u001b[0m (unbuilt) │\n",
       "│ (\u001b[38;5;33mBatchNormalization\u001b[0m)            │                        │               │\n",
       "├─────────────────────────────────┼────────────────────────┼───────────────┤\n",
       "│ dropout_2 (\u001b[38;5;33mDropout\u001b[0m)             │ ?                      │             \u001b[38;5;34m0\u001b[0m │\n",
       "├─────────────────────────────────┼────────────────────────┼───────────────┤\n",
       "│ dense_2 (\u001b[38;5;33mDense\u001b[0m)                 │ ?                      │   \u001b[38;5;34m0\u001b[0m (unbuilt) │\n",
       "├─────────────────────────────────┼────────────────────────┼───────────────┤\n",
       "│ dropout_3 (\u001b[38;5;33mDropout\u001b[0m)             │ ?                      │             \u001b[38;5;34m0\u001b[0m │\n",
       "├─────────────────────────────────┼────────────────────────┼───────────────┤\n",
       "│ dense_3 (\u001b[38;5;33mDense\u001b[0m)                 │ ?                      │   \u001b[38;5;34m0\u001b[0m (unbuilt) │\n",
       "└─────────────────────────────────┴────────────────────────┴───────────────┘\n"
      ]
     },
     "metadata": {},
     "output_type": "display_data"
    },
    {
     "data": {
      "text/html": [
       "<pre style=\"white-space:pre;overflow-x:auto;line-height:normal;font-family:Menlo,'DejaVu Sans Mono',consolas,'Courier New',monospace\"><span style=\"font-weight: bold\"> Total params: </span><span style=\"color: #00af00; text-decoration-color: #00af00\">0</span> (0.00 B)\n",
       "</pre>\n"
      ],
      "text/plain": [
       "\u001b[1m Total params: \u001b[0m\u001b[38;5;34m0\u001b[0m (0.00 B)\n"
      ]
     },
     "metadata": {},
     "output_type": "display_data"
    },
    {
     "data": {
      "text/html": [
       "<pre style=\"white-space:pre;overflow-x:auto;line-height:normal;font-family:Menlo,'DejaVu Sans Mono',consolas,'Courier New',monospace\"><span style=\"font-weight: bold\"> Trainable params: </span><span style=\"color: #00af00; text-decoration-color: #00af00\">0</span> (0.00 B)\n",
       "</pre>\n"
      ],
      "text/plain": [
       "\u001b[1m Trainable params: \u001b[0m\u001b[38;5;34m0\u001b[0m (0.00 B)\n"
      ]
     },
     "metadata": {},
     "output_type": "display_data"
    },
    {
     "data": {
      "text/html": [
       "<pre style=\"white-space:pre;overflow-x:auto;line-height:normal;font-family:Menlo,'DejaVu Sans Mono',consolas,'Courier New',monospace\"><span style=\"font-weight: bold\"> Non-trainable params: </span><span style=\"color: #00af00; text-decoration-color: #00af00\">0</span> (0.00 B)\n",
       "</pre>\n"
      ],
      "text/plain": [
       "\u001b[1m Non-trainable params: \u001b[0m\u001b[38;5;34m0\u001b[0m (0.00 B)\n"
      ]
     },
     "metadata": {},
     "output_type": "display_data"
    },
    {
     "name": "stdout",
     "output_type": "stream",
     "text": [
      "None\n",
      "\n",
      "Training the model...\n",
      "Epoch 1/15\n",
      "\u001b[1m513/513\u001b[0m \u001b[32m━━━━━━━━━━━━━━━━━━━━\u001b[0m\u001b[37m\u001b[0m \u001b[1m216s\u001b[0m 412ms/step - accuracy: 0.3475 - loss: 1.8911 - val_accuracy: 0.7736 - val_loss: 1.1792 - learning_rate: 1.0000e-04\n",
      "Epoch 2/15\n",
      "\u001b[1m513/513\u001b[0m \u001b[32m━━━━━━━━━━━━━━━━━━━━\u001b[0m\u001b[37m\u001b[0m \u001b[1m205s\u001b[0m 400ms/step - accuracy: 0.7057 - loss: 1.1464 - val_accuracy: 0.8365 - val_loss: 0.8670 - learning_rate: 1.0000e-04\n",
      "Epoch 3/15\n",
      "\u001b[1m513/513\u001b[0m \u001b[32m━━━━━━━━━━━━━━━━━━━━\u001b[0m\u001b[37m\u001b[0m \u001b[1m234s\u001b[0m 456ms/step - accuracy: 0.8163 - loss: 0.9026 - val_accuracy: 0.8295 - val_loss: 0.8374 - learning_rate: 1.0000e-04\n",
      "Epoch 4/15\n",
      "\u001b[1m513/513\u001b[0m \u001b[32m━━━━━━━━━━━━━━━━━━━━\u001b[0m\u001b[37m\u001b[0m \u001b[1m292s\u001b[0m 570ms/step - accuracy: 0.8379 - loss: 0.8115 - val_accuracy: 0.8441 - val_loss: 0.7816 - learning_rate: 1.0000e-04\n",
      "Epoch 5/15\n",
      "\u001b[1m513/513\u001b[0m \u001b[32m━━━━━━━━━━━━━━━━━━━━\u001b[0m\u001b[37m\u001b[0m \u001b[1m281s\u001b[0m 548ms/step - accuracy: 0.8599 - loss: 0.7416 - val_accuracy: 0.8395 - val_loss: 0.7715 - learning_rate: 1.0000e-04\n",
      "Epoch 6/15\n",
      "\u001b[1m513/513\u001b[0m \u001b[32m━━━━━━━━━━━━━━━━━━━━\u001b[0m\u001b[37m\u001b[0m \u001b[1m207s\u001b[0m 404ms/step - accuracy: 0.8656 - loss: 0.6841 - val_accuracy: 0.8307 - val_loss: 0.7691 - learning_rate: 1.0000e-04\n",
      "Epoch 7/15\n",
      "\u001b[1m513/513\u001b[0m \u001b[32m━━━━━━━━━━━━━━━━━━━━\u001b[0m\u001b[37m\u001b[0m \u001b[1m225s\u001b[0m 439ms/step - accuracy: 0.8830 - loss: 0.6266 - val_accuracy: 0.8417 - val_loss: 0.7567 - learning_rate: 1.0000e-04\n",
      "Epoch 8/15\n",
      "\u001b[1m513/513\u001b[0m \u001b[32m━━━━━━━━━━━━━━━━━━━━\u001b[0m\u001b[37m\u001b[0m \u001b[1m211s\u001b[0m 411ms/step - accuracy: 0.9014 - loss: 0.5796 - val_accuracy: 0.8383 - val_loss: 0.7669 - learning_rate: 1.0000e-04\n",
      "Epoch 9/15\n",
      "\u001b[1m513/513\u001b[0m \u001b[32m━━━━━━━━━━━━━━━━━━━━\u001b[0m\u001b[37m\u001b[0m \u001b[1m258s\u001b[0m 504ms/step - accuracy: 0.9125 - loss: 0.5394 - val_accuracy: 0.8351 - val_loss: 0.7832 - learning_rate: 1.0000e-04\n",
      "Epoch 9: early stopping\n",
      "Restoring model weights from the end of the best epoch: 4.\n"
     ]
    }
   ],
   "source": [
    "\n",
    "# Define model parameters\n",
    "print(\"\\nBuilding LSTM model with Embedding layer...\")\n",
    "\n",
    "# Build the model with trainable embedding layer\n",
    "model = Sequential([\n",
    "    # Embedding layer - now trainable\n",
    "    Embedding(\n",
    "        input_dim=vocab_size,\n",
    "        output_dim=embedding_dim,\n",
    "        input_length=sent_length,\n",
    "        mask_zero=True,\n",
    "        embeddings_regularizer=l2(0.0001)\n",
    "    ),\n",
    "    \n",
    "    # Bidirectional LSTM layer\n",
    "    Bidirectional(LSTM(\n",
    "        128,\n",
    "        kernel_regularizer=l2(0.0001),\n",
    "        recurrent_regularizer=l2(0.0001),\n",
    "        return_sequences=False,\n",
    "        dropout=0.2,\n",
    "        recurrent_dropout=0.2\n",
    "    )),\n",
    "    \n",
    "    # Regularization layers\n",
    "    BatchNormalization(),\n",
    "    Dropout(0.7),\n",
    "    \n",
    "    # Dense hidden layer\n",
    "    Dense(32, activation='relu', kernel_regularizer=l2(0.001)),\n",
    "    Dropout(0.3),\n",
    "    \n",
    "    # Output layer - adjusted based on binary vs multi-class\n",
    "    Dense(1 if len(np.unique(y_encoded)) == 2 else len(np.unique(y_encoded)), \n",
    "          activation='sigmoid' if len(np.unique(y_encoded)) == 2 else 'softmax')\n",
    "])\n",
    "\n",
    "# Compile model with appropriate settings\n",
    "if len(np.unique(y_encoded)) == 2:\n",
    "    loss_function = 'binary_crossentropy'\n",
    "else:\n",
    "    loss_function = 'categorical_crossentropy'\n",
    "\n",
    "model.compile(\n",
    "    loss=loss_function,\n",
    "    optimizer=Adam(learning_rate=0.0001),\n",
    "    metrics=['accuracy']\n",
    ")\n",
    "\n",
    "print(model.summary())\n",
    "\n",
    "# Set up callbacks for better training\n",
    "early_stopping = tf.keras.callbacks.EarlyStopping(\n",
    "    monitor='val_accuracy',\n",
    "    mode='max',\n",
    "    patience=5,\n",
    "    verbose=1,\n",
    "    restore_best_weights=True\n",
    ")\n",
    "\n",
    "reduce_lr = tf.keras.callbacks.ReduceLROnPlateau(\n",
    "    monitor='val_loss',\n",
    "    mode='min',\n",
    "    patience=5,\n",
    "    factor=0.5,\n",
    "    verbose=1,\n",
    "    min_lr=0.00001\n",
    ")\n",
    "\n",
    "# Train the model\n",
    "print(\"\\nTraining the model...\")\n",
    "history = model.fit(\n",
    "    X_train,\n",
    "    y_train,\n",
    "    validation_data=(X_test, y_test),\n",
    "    epochs=15,\n",
    "    batch_size=32,\n",
    "    callbacks=[early_stopping, reduce_lr]\n",
    ")\n"
   ]
  },
  {
   "cell_type": "code",
   "execution_count": 27,
   "metadata": {},
   "outputs": [
    {
     "data": {
      "image/png": "[encoded data removed]",
      "text/plain": [
       "<Figure size 1200x400 with 2 Axes>"
      ]
     },
     "metadata": {},
     "output_type": "display_data"
    }
   ],
   "source": [
    "\n",
    "# Plot training history\n",
    "plt.figure(figsize=(12, 4))\n",
    "plt.subplot(1, 2, 1)\n",
    "plt.plot(history.history['accuracy'])\n",
    "plt.plot(history.history['val_accuracy'])\n",
    "plt.title('Model Accuracy')\n",
    "plt.ylabel('Accuracy')\n",
    "plt.xlabel('Epoch')\n",
    "plt.legend(['Train', 'Validation'], loc='lower right')\n",
    "\n",
    "plt.subplot(1, 2, 2)\n",
    "plt.plot(history.history['loss'])\n",
    "plt.plot(history.history['val_loss'])\n",
    "plt.title('Model Loss')\n",
    "plt.ylabel('Loss')\n",
    "plt.xlabel('Epoch')\n",
    "plt.legend(['Train', 'Validation'], loc='upper right')\n",
    "plt.tight_layout()\n",
    "plt.show()\n"
   ]
  },
  {
   "cell_type": "code",
   "execution_count": 28,
   "metadata": {},
   "outputs": [
    {
     "name": "stdout",
     "output_type": "stream",
     "text": [
      "\n",
      "Evaluating model on test data...\n",
      "\u001b[1m129/129\u001b[0m \u001b[32m━━━━━━━━━━━━━━━━━━━━\u001b[0m\u001b[37m\u001b[0m \u001b[1m6s\u001b[0m 44ms/step - accuracy: 0.8439 - loss: 0.7806\n",
      "Test Loss: 0.7816\n",
      "Test Accuracy: 0.8441\n",
      "\u001b[1m129/129\u001b[0m \u001b[32m━━━━━━━━━━━━━━━━━━━━\u001b[0m\u001b[37m\u001b[0m \u001b[1m6s\u001b[0m 42ms/step\n"
     ]
    }
   ],
   "source": [
    "\n",
    "# Evaluate the model\n",
    "print(\"\\nEvaluating model on test data...\")\n",
    "loss, accuracy = model.evaluate(X_test, y_test)\n",
    "print(f\"Test Loss: {loss:.4f}\")\n",
    "print(f\"Test Accuracy: {accuracy:.4f}\")\n",
    "\n",
    "# Generate predictions\n",
    "y_pred_prob = model.predict(X_test)\n"
   ]
  },
  {
   "cell_type": "code",
   "execution_count": 37,
   "metadata": {},
   "outputs": [
    {
     "data": {
      "image/png": "[encoded data removed]",
      "text/plain": [
       "<Figure size 1000x800 with 1 Axes>"
      ]
     },
     "metadata": {},
     "output_type": "display_data"
    },
    {
     "name": "stdout",
     "output_type": "stream",
     "text": [
      "Optimized thresholds for each class (based on F1-score):\n",
      "Negative: 0.4854\n",
      "Neutral: 0.2320\n",
      "Positive: 0.3790\n"
     ]
    }
   ],
   "source": [
    "from sklearn.metrics import roc_curve, auc, f1_score\n",
    "import numpy as np\n",
    "import matplotlib.pyplot as plt\n",
    "from tensorflow.keras.utils import to_categorical\n",
    "\n",
    "optimal_thresholds = {}\n",
    "n_classes = len(label_encoder.classes_)\n",
    "\n",
    "# Convert y_test to one-hot encoding for ROC analysis if not already\n",
    "if len(y_test.shape) == 1:\n",
    "    y_test_onehot = to_categorical(y_test, num_classes=n_classes)\n",
    "else:\n",
    "    y_test_onehot = y_test  # Already in one-hot format\n",
    "\n",
    "plt.figure(figsize=(10, 8))\n",
    "\n",
    "for i, class_name in enumerate(label_encoder.classes_):\n",
    "    fpr, tpr, thresholds = roc_curve(y_test_onehot[:, i], y_pred_prob[:, i])\n",
    "    roc_auc = auc(fpr, tpr)\n",
    "    \n",
    "    # Youden’s J statistic (TPR - FPR)\n",
    "    youden_idx = np.argmax(tpr - fpr)\n",
    "    youden_threshold = thresholds[youden_idx]\n",
    "\n",
    "    # Find optimal F1-score threshold\n",
    "    best_f1 = 0\n",
    "    best_f1_threshold = youden_threshold  # Default to Youden’s if no better F1-score is found\n",
    "    for threshold in thresholds:\n",
    "        y_pred_bin = (y_pred_prob[:, i] >= threshold).astype(int)\n",
    "        f1 = f1_score(y_test_onehot[:, i], y_pred_bin)\n",
    "        if f1 > best_f1:\n",
    "            best_f1 = f1\n",
    "            best_f1_threshold = threshold\n",
    "\n",
    "    # Choose best threshold based on max(F1-score)\n",
    "    optimal_thresholds[class_name] = best_f1_threshold\n",
    "\n",
    "    # Plot ROC curve\n",
    "    plt.plot(fpr, tpr, lw=2, label=f'{class_name} (AUC = {roc_auc:.4f}, best F1-threshold = {best_f1_threshold:.4f})')\n",
    "\n",
    "# Plot diagonal line\n",
    "plt.plot([0, 1], [0, 1], 'k--', lw=2)\n",
    "plt.xlim([0.0, 1.0])\n",
    "plt.ylim([0.0, 1.05])\n",
    "plt.xlabel('False Positive Rate')\n",
    "plt.ylabel('True Positive Rate')\n",
    "plt.title('Optimized ROC Curves for Sentiment Classes')\n",
    "plt.legend(loc=\"lower right\")\n",
    "plt.show()\n",
    "\n",
    "print(\"Optimized thresholds for each class (based on F1-score):\")\n",
    "for class_name, threshold in optimal_thresholds.items():\n",
    "    print(f\"{class_name}: {threshold:.4f}\")\n"
   ]
  },
  {
   "cell_type": "code",
   "execution_count": 38,
   "metadata": {},
   "outputs": [],
   "source": [
    "# Define the updated prediction function\n",
    "def predict_sentiment(new_reviews):\n",
    "    \"\"\"\n",
    "    Predict sentiment for new reviews with optimized thresholds for multiclass classification\n",
    "    \"\"\"\n",
    "    # Process the reviews\n",
    "    tokenized_reviews = []\n",
    "    for review in new_reviews:\n",
    "        tokens, _ = preprocess_text(review)\n",
    "        tokenized_reviews.append(tokens)\n",
    "    \n",
    "    # Convert to sequences\n",
    "    sequences = texts_to_sequences(tokenized_reviews, word_to_index, sent_length)\n",
    "    \n",
    "    # Get raw probability predictions\n",
    "    pred_probs = model.predict(sequences)\n",
    "    \n",
    "    # Initialize array for calibrated predictions\n",
    "    calibrated_preds = np.zeros_like(pred_probs)\n",
    "    \n",
    "    # Apply class-specific thresholds\n",
    "    for i, class_name in enumerate(label_encoder.classes_):\n",
    "        calibrated_preds[:, i] = pred_probs[:, i] >= optimal_thresholds[class_name]\n",
    "    \n",
    "    # For samples where no class exceeds threshold, pick highest probability\n",
    "    no_class_samples = np.sum(calibrated_preds, axis=1) == 0\n",
    "    if np.any(no_class_samples):\n",
    "        highest_prob_classes = np.argmax(pred_probs[no_class_samples], axis=1)\n",
    "        for i, sample_idx in enumerate(np.where(no_class_samples)[0]):\n",
    "            calibrated_preds[sample_idx, highest_prob_classes[i]] = 1\n",
    "    \n",
    "    # For samples with multiple classes above threshold, keep only the highest probability\n",
    "    multi_class_samples = np.sum(calibrated_preds, axis=1) > 1\n",
    "    if np.any(multi_class_samples):\n",
    "        highest_prob_classes = np.argmax(pred_probs[multi_class_samples], axis=1)\n",
    "        for i, sample_idx in enumerate(np.where(multi_class_samples)[0]):\n",
    "            # Reset all to 0\n",
    "            calibrated_preds[sample_idx] = 0\n",
    "            # Set only the highest probability class to 1\n",
    "            calibrated_preds[sample_idx, highest_prob_classes[i]] = 1\n",
    "    \n",
    "    # Convert to class indices\n",
    "    pred_classes = np.argmax(calibrated_preds, axis=1)\n",
    "    pred_labels = label_encoder.inverse_transform(pred_classes)\n",
    "    \n",
    "    return pred_labels, pred_probs"
   ]
  },
  {
   "cell_type": "code",
   "execution_count": null,
   "metadata": {},
   "outputs": [
    {
     "name": "stdout",
     "output_type": "stream",
     "text": [
      "\n",
      "Testing prediction with optimized thresholds:\n",
      "\u001b[1m1/1\u001b[0m \u001b[32m━━━━━━━━━━━━━━━━━━━━\u001b[0m\u001b[37m\u001b[0m \u001b[1m0s\u001b[0m 40ms/step\n"
     ]
    },
    {
     "name": "stderr",
     "output_type": "stream",
     "text": [
      "WARNING:absl:You are saving your model as an HDF5 file via `model.save()` or `keras.saving.save_model(model)`. This file format is considered legacy. We recommend using instead the native Keras format, e.g. `model.save('my_model.keras')` or `keras.saving.save_model(model, 'my_model.keras')`. \n"
     ]
    },
    {
     "name": "stdout",
     "output_type": "stream",
     "text": [
      "Review: The hotel was absolutely fantastic! The rooms were...\n",
      "Predicted Sentiment: Positive\n",
      "Probabilities: Negative: 0.0055, Neutral: 0.0144, Positive: 0.9801\n",
      "\n",
      "Review: We had a terrible experience at this hotel. The ro...\n",
      "Predicted Sentiment: Negative\n",
      "Probabilities: Negative: 0.9371, Neutral: 0.0492, Positive: 0.0137\n",
      "\n",
      "Review: The location was perfect and the view was amazing,...\n",
      "Predicted Sentiment: Positive\n",
      "Probabilities: Negative: 0.3461, Neutral: 0.0708, Positive: 0.5831\n",
      "\n",
      "Review: the rooms were awesome.\n",
      "Predicted Sentiment: Positive\n",
      "Probabilities: Negative: 0.2274, Neutral: 0.2229, Positive: 0.5497\n",
      "\n",
      "Review: met expectations centrally located hotel blocks wa...\n",
      "Predicted Sentiment: Neutral\n",
      "Probabilities: Negative: 0.2119, Neutral: 0.4358, Positive: 0.3523\n",
      "\n",
      "Review: pay read reviews booked knew getting, mind n't sur...\n",
      "Predicted Sentiment: Neutral\n",
      "Probabilities: Negative: 0.3506, Neutral: 0.2762, Positive: 0.3732\n",
      "\n",
      "Model and preprocessing components saved successfully!\n"
     ]
    }
   ],
   "source": [
    "\n",
    "# Example usage with hotel-specific reviews\n",
    "print(\"\\nTesting prediction with optimized thresholds:\")\n",
    "sample_reviews = [\n",
    "    \"The hotel was absolutely fantastic! The rooms were clean and spacious, and the staff was incredibly helpful.\",\n",
    "    \"We had a terrible experience at this hotel. The room was dirty, and the service was extremely slow.\",\n",
    "    \"The location was perfect and the view was amazing, but the breakfast was disappointing and the wifi didn't work properly.\",\n",
    "    \"the rooms were awesome.\",\n",
    "    \"met expectations centrally located hotel blocks water popular nightlife shopping options belltown downtown, classify property star location, paid wedding rate not sure fares value proposition, room spacious little outdated, rooms decent views lower floor drab panaroma parking lot buildings, adequate fitness center sauna pool basement quaint bar/restaurant attached hotel, parking 30 day outrage possibly standard downtown street parking weekend save dollars, willing stay future price significantly lower nearby four-star competition\",\n",
    "    \"pay read reviews booked knew getting, mind n't surprised, fact better expected, yes rooms outdated towels floormat limited cable tv overall lack amenities use hotel, reviewer said like budget overseas hotel stayed similar condition just enjoyed experience, check desk service great, asked extra pillows maid got, spent 5 flowers pike street added character room.location, friends stayed fairmont street stayed 3 nights night cost, money went dinners trip victoria baseball games\"\n",
    "]\n",
    "\n",
    "predictions, probabilities = predict_sentiment(sample_reviews)\n",
    "\n",
    "for i, (review, sentiment) in enumerate(zip(sample_reviews, predictions)):\n",
    "    print(f\"Review: {review[:50]}...\" if len(review) > 50 else f\"Review: {review}\")\n",
    "    print(f\"Predicted Sentiment: {sentiment}\")\n",
    "    \n",
    "    # For multiclass, show all probabilities\n",
    "    class_probs = \", \".join([f\"{cls}: {prob:.4f}\" for cls, prob in zip(label_encoder.classes_, probabilities[i])])\n",
    "    print(f\"Probabilities: {class_probs}\")\n",
    "    print()\n"
   ]
  },
  {
   "cell_type": "code",
   "execution_count": null,
   "metadata": {},
   "outputs": [],
   "source": [
    "\n",
    "# Save the model and preprocessing components\n",
    "model.save(\"imdb_sentiment_model.h5\")\n",
    "joblib.dump(label_encoder, \"label_encoder.pkl\")\n",
    "joblib.dump(word_to_index, \"word_to_index.pkl\")\n",
    "\n",
    "# Save parameters as dictionary\n",
    "model_params = {\n",
    "    \"sent_length\": sent_length,\n",
    "    \"embedding_dim\": embedding_dim,\n",
    "    \"vocab_size\": vocab_size,\n",
    "    \"multiclass_thresholds\": optimal_thresholds\n",
    "}\n",
    "\n",
    "joblib.dump(model_params, \"model_params.pkl\")\n",
    "\n",
    "# Save optimized thresholds separately for easy access\n",
    "joblib.dump(optimal_thresholds, \"optimal_thresholds.pkl\")\n",
    "\n",
    "print(\"Model and preprocessing components saved successfully!\")\n"
   ]
  }
 ],
 "metadata": {
  "kernelspec": {
   "display_name": "Python 3",
   "language": "python",
   "name": "python3"
  },
  "language_info": {
   "codemirror_mode": {
    "name": "ipython",
    "version": 3
   },
   "file_extension": ".py",
   "mimetype": "text/x-python",
   "name": "python",
   "nbconvert_exporter": "python",
   "pygments_lexer": "ipython3",
   "version": "3.10.11"
  }
 },
 "nbformat": 4,
 "nbformat_minor": 2
}
